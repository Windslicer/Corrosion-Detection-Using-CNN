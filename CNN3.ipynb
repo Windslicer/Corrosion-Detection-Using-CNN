{
 "cells": [
  {
   "cell_type": "markdown",
   "id": "6b667b86",
   "metadata": {},
   "source": [
    "# Import Necessary Libraries"
   ]
  },
  {
   "cell_type": "code",
   "execution_count": 133,
   "id": "725ef1a2",
   "metadata": {
    "ExecuteTime": {
     "end_time": "2021-06-01T15:01:54.484090Z",
     "start_time": "2021-06-01T15:01:54.471776Z"
    }
   },
   "outputs": [],
   "source": [
    "# System\n",
    "import pathlib\n",
    "import glob\n",
    "import os, os.path, shutil\n",
    "# Data Exploration \n",
    "import random\n",
    "import numpy as np\n",
    "import matplotlib.pyplot as plt\n",
    "import matplotlib.image as mpimg\n",
    "\n",
    "#import pandas as pd\n",
    "#import seaborn as sns\n",
    "from PIL import Image\n",
    "\n",
    "#CNN Learning\n",
    "import tensorflow as tf\n",
    "import keras\n",
    "from keras.utils import plot_model \n",
    "from keras import backend as K \n",
    "from keras import metrics\n",
    "from keras.regularizers import l2,l1\n",
    "from tensorflow.keras.utils import Sequence\n",
    "from keras.models import Sequential\n",
    "from keras.layers import Conv2D, MaxPooling2D, Flatten, Dense, Dropout, BatchNormalization, InputLayer, Activation\n",
    "from tensorflow.keras.utils import img_to_array\n",
    "from tensorflow.keras.preprocessing.image import ImageDataGenerator\n",
    "from keras.metrics import AUC\n",
    "from keras.optimizers import Adam, RMSprop\n",
    "from keras.callbacks import EarlyStopping, ModelCheckpoint"
   ]
  },
  {
   "cell_type": "markdown",
   "id": "5a9aa40a",
   "metadata": {},
   "source": [
    "# Data Directory"
   ]
  },
  {
   "cell_type": "code",
   "execution_count": 134,
   "id": "b185de37",
   "metadata": {
    "ExecuteTime": {
     "end_time": "2021-06-01T15:01:55.708687Z",
     "start_time": "2021-06-01T15:01:55.705898Z"
    }
   },
   "outputs": [],
   "source": [
    "train_dir = 'split/train'\n",
    "train_CORROSION_dir = 'split/train/CORROSION/'\n",
    "train_NOCORROSION_dir = 'split/train/NOCORROSION/'\n",
    "\n",
    "validation_dir = 'split/validation'\n",
    "validation_CORROSION_dir = 'split/validation/CORROSION/'\n",
    "validation_NOCORROSION_dir = 'split/validation/NOCORROSION/'\n",
    "\n",
    "test_dir = 'split/test'\n",
    "test_CORROSION_dir = 'split/test/CORROSION/'\n",
    "test_NOCORROSION_dir = 'split/test/NOCORROSION/'"
   ]
  },
  {
   "cell_type": "code",
   "execution_count": 135,
   "id": "d4b2f389",
   "metadata": {
    "ExecuteTime": {
     "end_time": "2021-06-01T15:01:57.623962Z",
     "start_time": "2021-06-01T15:01:57.618323Z"
    }
   },
   "outputs": [],
   "source": [
    "def num_files_in_direcotry(path):\n",
    "    num = len([file for file in os.listdir(path) if file.endswith('.jpg')])\n",
    "    return num"
   ]
  },
  {
   "cell_type": "code",
   "execution_count": 136,
   "id": "658d8a0d",
   "metadata": {
    "ExecuteTime": {
     "end_time": "2021-06-01T15:02:00.928574Z",
     "start_time": "2021-06-01T15:02:00.922651Z"
    }
   },
   "outputs": [
    {
     "name": "stdout",
     "output_type": "stream",
     "text": [
      "[Train] Number of CORROSION Images:  693\n",
      "[Train] Number of NOCORROSION Images:  580\n",
      "[Train] Number of TOTAL Images:  1273\n"
     ]
    }
   ],
   "source": [
    "train_CORROSION_num = num_files_in_direcotry(train_CORROSION_dir)\n",
    "train_NOCORROSION_num = num_files_in_direcotry(train_NOCORROSION_dir)\n",
    "train_SUM_num = train_CORROSION_num + train_NOCORROSION_num\n",
    "\n",
    "print(\"[Train] Number of CORROSION Images: \", train_CORROSION_num)\n",
    "print(\"[Train] Number of NOCORROSION Images: \", train_NOCORROSION_num)\n",
    "print(\"[Train] Number of TOTAL Images: \", train_SUM_num)"
   ]
  },
  {
   "cell_type": "code",
   "execution_count": 137,
   "id": "69926f71",
   "metadata": {
    "ExecuteTime": {
     "end_time": "2021-06-01T15:02:02.998873Z",
     "start_time": "2021-06-01T15:02:02.995021Z"
    }
   },
   "outputs": [
    {
     "name": "stdout",
     "output_type": "stream",
     "text": [
      "[Validation] Number of CORROSION Images:  198\n",
      "[Validation] Number of NOCORROSION Images:  166\n",
      "[Validation] Number of TOTAL Images:  364\n"
     ]
    }
   ],
   "source": [
    "val_CORROSION_num = num_files_in_direcotry(validation_CORROSION_dir)\n",
    "val_NOCORROSION_num = num_files_in_direcotry(validation_NOCORROSION_dir)\n",
    "val_SUM_num = val_CORROSION_num + val_NOCORROSION_num\n",
    "\n",
    "print(\"[Validation] Number of CORROSION Images: \", val_CORROSION_num)\n",
    "print(\"[Validation] Number of NOCORROSION Images: \", val_NOCORROSION_num)\n",
    "print(\"[Validation] Number of TOTAL Images: \", val_SUM_num)"
   ]
  },
  {
   "cell_type": "code",
   "execution_count": 138,
   "id": "c768d118",
   "metadata": {
    "ExecuteTime": {
     "end_time": "2021-06-01T15:02:05.480150Z",
     "start_time": "2021-06-01T15:02:05.477628Z"
    }
   },
   "outputs": [
    {
     "name": "stdout",
     "output_type": "stream",
     "text": [
      "[Test] Number of CORROSION Images:  102\n",
      "[Test] Number of NOCORROSION Images:  83\n",
      "[Test] Number of TOTAL Images:  185\n"
     ]
    }
   ],
   "source": [
    "test_CORROSION_num = num_files_in_direcotry(test_CORROSION_dir)\n",
    "test_NOCORROSION_num = num_files_in_direcotry(test_NOCORROSION_dir)\n",
    "test_SUM_num = test_CORROSION_num + test_NOCORROSION_num\n",
    "\n",
    "print(\"[Test] Number of CORROSION Images: \", test_CORROSION_num)\n",
    "print(\"[Test] Number of NOCORROSION Images: \", test_NOCORROSION_num)\n",
    "print(\"[Test] Number of TOTAL Images: \", test_SUM_num)"
   ]
  },
  {
   "cell_type": "markdown",
   "id": "a4037ea6",
   "metadata": {},
   "source": [
    "# Function for data generation from directory\n"
   ]
  },
  {
   "cell_type": "code",
   "execution_count": 139,
   "id": "3ae896bc",
   "metadata": {
    "ExecuteTime": {
     "end_time": "2021-06-01T15:02:12.447420Z",
     "start_time": "2021-06-01T15:02:12.444352Z"
    }
   },
   "outputs": [],
   "source": [
    "# Build data generator function\n",
    "\n",
    "def make_data_generator(\n",
    "    train_datagen, train_dir, \n",
    "    val_datagen, val_dir, \n",
    "    test_datagen, test_dir):\n",
    "    \n",
    "    datagen_lst = [train_datagen, val_datagen, test_datagen]\n",
    "    directory_lst = [train_dir, val_dir, test_dir]\n",
    "    generator_lst = []\n",
    "    for generator, directory in zip(datagen_lst, directory_lst):\n",
    "        if directory == train_dir:\n",
    "            shuffle = True\n",
    "        else:\n",
    "            shuffle = False\n",
    "        g = generator.flow_from_directory(directory = directory,\n",
    "                                         target_size = (128,128),\n",
    "                                         batch_size = 32,\n",
    "                                         color_mode = 'rgb',\n",
    "                                         class_mode = 'binary',\n",
    "                                         shuffle = shuffle,\n",
    "                                         seed = 42\n",
    "                                         )\n",
    "        generator_lst.append(g)\n",
    "    \n",
    "    return generator_lst"
   ]
  },
  {
   "cell_type": "code",
   "execution_count": 140,
   "id": "1f29f279",
   "metadata": {
    "ExecuteTime": {
     "end_time": "2021-05-27T18:15:27.578581Z",
     "start_time": "2021-05-27T18:15:27.520456Z"
    }
   },
   "outputs": [
    {
     "name": "stdout",
     "output_type": "stream",
     "text": [
      "Found 1273 images belonging to 2 classes.\n",
      "Found 364 images belonging to 2 classes.\n",
      "Found 185 images belonging to 2 classes.\n"
     ]
    }
   ],
   "source": [
    "# Load the images\n",
    "\n",
    "train_datagen = ImageDataGenerator(rescale = 1.0/255.0)\n",
    "val_datagen = ImageDataGenerator(rescale=1.0/255.0)\n",
    "test_datagen = ImageDataGenerator(rescale=1.0/255.0)\n",
    "\n",
    "train_generator,val_generator, test_generator = make_data_generator(\n",
    "    train_datagen, train_dir,\n",
    "    val_datagen, validation_dir,\n",
    "    test_datagen, test_dir)"
   ]
  },
  {
   "cell_type": "code",
   "execution_count": 9,
   "id": "a80b819e",
   "metadata": {
    "ExecuteTime": {
     "end_time": "2021-05-27T18:15:27.621300Z",
     "start_time": "2021-05-27T18:15:27.579539Z"
    }
   },
   "outputs": [],
   "source": [
    " # Design the model\n",
    "    \n",
    "def build_model_1():\n",
    "    cnn = Sequential()\n",
    "\n",
    "    cnn.add(InputLayer(input_shape=(128, 128, 3)))\n",
    "\n",
    "    cnn.add(Conv2D(128, (3, 3), activation='relu'))\n",
    "    cnn.add(MaxPooling2D((2, 2)))\n",
    "    cnn.add(Conv2D(64, (3, 3), activation='relu'))\n",
    "    cnn.add(MaxPooling2D((2, 2)))\n",
    "    cnn.add(Conv2D(32, (3, 3), activation='relu'))\n",
    "    cnn.add(MaxPooling2D((2, 2)))\n",
    "    cnn.add(Conv2D(16, (3, 3), activation='relu'))\n",
    "    cnn.add(MaxPooling2D((2, 2)))\n",
    "    \n",
    "\n",
    "    cnn.add(Flatten())\n",
    "\n",
    "    cnn.add(Dense(256, activation='relu'))\n",
    "    cnn.add(Dense(1, activation='sigmoid'))\n",
    "    \n",
    "    # Compile\n",
    "    cnn.compile(optimizer='adam',loss='binary_crossentropy',metrics=['acc'])\n",
    "    return cnn\n",
    "\n",
    "cnn = build_model_1()"
   ]
  },
  {
   "cell_type": "code",
   "execution_count": 105,
   "id": "394db875",
   "metadata": {
    "ExecuteTime": {
     "end_time": "2021-06-01T15:02:25.621318Z",
     "start_time": "2021-06-01T15:02:25.556272Z"
    }
   },
   "outputs": [
    {
     "name": "stdout",
     "output_type": "stream",
     "text": [
      "Found 1273 images belonging to 2 classes.\n",
      "Found 364 images belonging to 2 classes.\n",
      "Found 185 images belonging to 2 classes.\n"
     ]
    }
   ],
   "source": [
    "# Load the images\n",
    "\n",
    "train_datagen = ImageDataGenerator(rescale = 1.0/255.0,\n",
    "                                   shear_range = 0.2,\n",
    "                                   zoom_range = 0.2, \n",
    "                                   horizontal_flip = True,\n",
    "                                   vertical_flip = True)\n",
    "val_datagen = ImageDataGenerator(rescale=1.0/255.0)\n",
    "test_datagen = ImageDataGenerator(rescale=1.0/255.0)\n",
    "\n",
    "train_generator,val_generator, test_generator = make_data_generator(\n",
    "    train_datagen, train_dir,\n",
    "    val_datagen, validation_dir,\n",
    "    test_datagen, test_dir)"
   ]
  },
  {
   "cell_type": "code",
   "execution_count": 128,
   "id": "3fa405a9",
   "metadata": {
    "ExecuteTime": {
     "end_time": "2021-05-27T18:34:57.615528Z",
     "start_time": "2021-05-27T18:22:55.660190Z"
    }
   },
   "outputs": [
    {
     "name": "stderr",
     "output_type": "stream",
     "text": [
      "C:\\Users\\DARTHV~1\\AppData\\Local\\Temp/ipykernel_13832/1288473111.py:1: UserWarning: `Model.fit_generator` is deprecated and will be removed in a future version. Please use `Model.fit`, which supports generators.\n",
      "  cnn_model = cnn.fit_generator(train_generator,\n"
     ]
    },
    {
     "name": "stdout",
     "output_type": "stream",
     "text": [
      "Epoch 1/30\n",
      "40/40 [==============================] - 73s 2s/step - loss: 0.3062 - acc: 0.8688 - val_loss: 0.5398 - val_acc: 0.7995\n",
      "Epoch 2/30\n",
      "40/40 [==============================] - 43s 1s/step - loss: 0.3280 - acc: 0.8688 - val_loss: 0.4959 - val_acc: 0.7775\n",
      "Epoch 3/30\n",
      "40/40 [==============================] - 42s 1s/step - loss: 0.3067 - acc: 0.8743 - val_loss: 0.4165 - val_acc: 0.8324\n",
      "Epoch 4/30\n",
      "40/40 [==============================] - 42s 1s/step - loss: 0.3044 - acc: 0.8720 - val_loss: 0.4899 - val_acc: 0.8104\n",
      "Epoch 5/30\n",
      "40/40 [==============================] - 43s 1s/step - loss: 0.2893 - acc: 0.8704 - val_loss: 0.5459 - val_acc: 0.7995\n",
      "Epoch 6/30\n",
      "40/40 [==============================] - 42s 1s/step - loss: 0.2937 - acc: 0.8743 - val_loss: 0.5253 - val_acc: 0.8049\n",
      "Epoch 7/30\n",
      "40/40 [==============================] - 42s 1s/step - loss: 0.2806 - acc: 0.8845 - val_loss: 0.4464 - val_acc: 0.8379\n",
      "Epoch 8/30\n",
      "40/40 [==============================] - 42s 1s/step - loss: 0.2999 - acc: 0.8775 - val_loss: 0.4530 - val_acc: 0.8132\n",
      "Epoch 9/30\n",
      "40/40 [==============================] - 42s 1s/step - loss: 0.2802 - acc: 0.8806 - val_loss: 0.5328 - val_acc: 0.8104\n",
      "Epoch 10/30\n",
      "40/40 [==============================] - 42s 1s/step - loss: 0.2539 - acc: 0.8908 - val_loss: 0.5027 - val_acc: 0.8159\n",
      "Epoch 11/30\n",
      "40/40 [==============================] - 43s 1s/step - loss: 0.2862 - acc: 0.8845 - val_loss: 0.6012 - val_acc: 0.7555\n",
      "Epoch 12/30\n",
      "40/40 [==============================] - 42s 1s/step - loss: 0.2772 - acc: 0.8861 - val_loss: 0.4622 - val_acc: 0.8132\n",
      "Epoch 13/30\n",
      "40/40 [==============================] - 43s 1s/step - loss: 0.2621 - acc: 0.8940 - val_loss: 0.4612 - val_acc: 0.8352\n",
      "Epoch 14/30\n",
      "40/40 [==============================] - 44s 1s/step - loss: 0.2502 - acc: 0.9010 - val_loss: 0.6032 - val_acc: 0.7940\n",
      "Epoch 15/30\n",
      "40/40 [==============================] - 44s 1s/step - loss: 0.2214 - acc: 0.9097 - val_loss: 0.4905 - val_acc: 0.8214\n",
      "Epoch 16/30\n",
      "40/40 [==============================] - 42s 1s/step - loss: 0.2503 - acc: 0.9002 - val_loss: 0.4777 - val_acc: 0.7967\n",
      "Epoch 17/30\n",
      "40/40 [==============================] - 42s 1s/step - loss: 0.2472 - acc: 0.8932 - val_loss: 0.7718 - val_acc: 0.7527\n",
      "Epoch 18/30\n",
      "40/40 [==============================] - 42s 1s/step - loss: 0.2388 - acc: 0.9112 - val_loss: 0.5053 - val_acc: 0.8407\n",
      "Epoch 19/30\n",
      "40/40 [==============================] - 42s 1s/step - loss: 0.2134 - acc: 0.9214 - val_loss: 0.5656 - val_acc: 0.8242\n",
      "Epoch 20/30\n",
      "40/40 [==============================] - 42s 1s/step - loss: 0.2224 - acc: 0.9183 - val_loss: 0.5311 - val_acc: 0.8242\n",
      "Epoch 21/30\n",
      "40/40 [==============================] - 43s 1s/step - loss: 0.2069 - acc: 0.9167 - val_loss: 0.4804 - val_acc: 0.8297\n",
      "Epoch 22/30\n",
      "40/40 [==============================] - 43s 1s/step - loss: 0.2198 - acc: 0.9065 - val_loss: 0.5354 - val_acc: 0.8324\n",
      "Epoch 23/30\n",
      "40/40 [==============================] - 43s 1s/step - loss: 0.1980 - acc: 0.9246 - val_loss: 0.6489 - val_acc: 0.8022\n",
      "Epoch 24/30\n",
      "40/40 [==============================] - 43s 1s/step - loss: 0.1938 - acc: 0.9191 - val_loss: 0.4487 - val_acc: 0.8434\n",
      "Epoch 25/30\n",
      "40/40 [==============================] - 43s 1s/step - loss: 0.2308 - acc: 0.9002 - val_loss: 0.4574 - val_acc: 0.8324\n",
      "Epoch 26/30\n",
      "40/40 [==============================] - 44s 1s/step - loss: 0.1767 - acc: 0.9332 - val_loss: 0.6096 - val_acc: 0.8159\n",
      "Epoch 27/30\n",
      "40/40 [==============================] - 43s 1s/step - loss: 0.1952 - acc: 0.9238 - val_loss: 0.5193 - val_acc: 0.8187\n",
      "Epoch 28/30\n",
      "40/40 [==============================] - 43s 1s/step - loss: 0.1809 - acc: 0.9269 - val_loss: 0.5671 - val_acc: 0.8242\n",
      "Epoch 29/30\n",
      "40/40 [==============================] - 43s 1s/step - loss: 0.1746 - acc: 0.9372 - val_loss: 0.6054 - val_acc: 0.7995\n",
      "Epoch 30/30\n",
      "40/40 [==============================] - 44s 1s/step - loss: 0.1731 - acc: 0.9332 - val_loss: 0.5372 - val_acc: 0.8159\n"
     ]
    }
   ],
   "source": [
    "cnn_model = cnn.fit_generator(train_generator,\n",
    "                            epochs = 30,\n",
    "                            steps_per_epoch = len(train_generator),\n",
    "                            validation_data = val_generator,\n",
    "                            validation_steps = len(val_generator))"
   ]
  },
  {
   "cell_type": "code",
   "execution_count": 12,
   "id": "2ee22685",
   "metadata": {},
   "outputs": [
    {
     "name": "stdout",
     "output_type": "stream",
     "text": [
      "Found 1273 images belonging to 2 classes.\n",
      "Found 364 images belonging to 2 classes.\n",
      "Found 185 images belonging to 2 classes.\n"
     ]
    }
   ],
   "source": [
    "# Load the images\n",
    "\n",
    "train_datagen = ImageDataGenerator(rescale = 1.0/255.0,\n",
    "                                   shear_range = 0.2,\n",
    "                                   zoom_range = 0.2, \n",
    "                                   horizontal_flip = True,\n",
    "                                   vertical_flip = True)\n",
    "val_datagen = ImageDataGenerator(rescale=1.0/255.0)\n",
    "test_datagen = ImageDataGenerator(rescale=1.0/255.0)\n",
    "\n",
    "train_generator,val_generator, test_generator = make_data_generator(\n",
    "    train_datagen, train_dir,\n",
    "    val_datagen, validation_dir,\n",
    "    test_datagen, test_dir)"
   ]
  },
  {
   "cell_type": "code",
   "execution_count": 13,
   "id": "3d758e7d",
   "metadata": {
    "ExecuteTime": {
     "end_time": "2021-05-27T18:40:32.942477Z",
     "start_time": "2021-05-27T18:40:32.888810Z"
    }
   },
   "outputs": [],
   "source": [
    " # Design the model\n",
    "    \n",
    "def build_model_3():\n",
    "    cnn = Sequential()\n",
    "\n",
    "    cnn.add(InputLayer(input_shape=(128, 128, 3)))\n",
    "\n",
    "    cnn.add(Conv2D(64, (3, 3), activation='relu'))\n",
    "    cnn.add(MaxPooling2D((2, 2)))\n",
    "    cnn.add(Conv2D(32, (3, 3), activation='relu'))\n",
    "    cnn.add(MaxPooling2D((2, 2)))\n",
    "    cnn.add(Conv2D(16, (3, 3), activation='relu'))\n",
    "    cnn.add(MaxPooling2D((2, 2)))\n",
    "    \n",
    "\n",
    "    cnn.add(Flatten())\n",
    "\n",
    "    cnn.add(Dense(128, activation='relu'))\n",
    "    cnn.add(Dense(1, activation='sigmoid'))\n",
    "    \n",
    "    # Compile\n",
    "    cnn.compile(optimizer='adam',loss='binary_crossentropy',metrics=['acc'])\n",
    "    return cnn\n",
    "\n",
    "cnn_3 = build_model_3()"
   ]
  },
  {
   "cell_type": "code",
   "execution_count": 14,
   "id": "c1ba0099",
   "metadata": {
    "ExecuteTime": {
     "end_time": "2021-05-27T18:52:03.743934Z",
     "start_time": "2021-05-27T18:40:57.547962Z"
    }
   },
   "outputs": [
    {
     "name": "stderr",
     "output_type": "stream",
     "text": [
      "C:\\Users\\DARTHV~1\\AppData\\Local\\Temp/ipykernel_13832/2356722293.py:1: UserWarning: `Model.fit_generator` is deprecated and will be removed in a future version. Please use `Model.fit`, which supports generators.\n",
      "  cnn_model_3 = cnn_3.fit_generator(train_generator,\n"
     ]
    },
    {
     "name": "stdout",
     "output_type": "stream",
     "text": [
      "Epoch 1/30\n",
      "40/40 [==============================] - 47s 1s/step - loss: 0.6876 - acc: 0.5625 - val_loss: 0.6406 - val_acc: 0.7170\n",
      "Epoch 2/30\n",
      "40/40 [==============================] - 43s 1s/step - loss: 0.6229 - acc: 0.6622 - val_loss: 0.6227 - val_acc: 0.6511\n",
      "Epoch 3/30\n",
      "40/40 [==============================] - 43s 1s/step - loss: 0.5822 - acc: 0.7054 - val_loss: 0.5629 - val_acc: 0.7308\n",
      "Epoch 4/30\n",
      "40/40 [==============================] - 43s 1s/step - loss: 0.5527 - acc: 0.7329 - val_loss: 0.5273 - val_acc: 0.7527\n",
      "Epoch 5/30\n",
      "40/40 [==============================] - 43s 1s/step - loss: 0.5046 - acc: 0.7636 - val_loss: 0.4978 - val_acc: 0.7802\n",
      "Epoch 6/30\n",
      "40/40 [==============================] - 43s 1s/step - loss: 0.5324 - acc: 0.7518 - val_loss: 0.5118 - val_acc: 0.7692\n",
      "Epoch 7/30\n",
      "40/40 [==============================] - 43s 1s/step - loss: 0.4893 - acc: 0.7683 - val_loss: 0.5690 - val_acc: 0.7445\n",
      "Epoch 8/30\n",
      "40/40 [==============================] - 43s 1s/step - loss: 0.4769 - acc: 0.7753 - val_loss: 0.5057 - val_acc: 0.7830\n",
      "Epoch 9/30\n",
      "40/40 [==============================] - 43s 1s/step - loss: 0.4754 - acc: 0.7840 - val_loss: 0.7005 - val_acc: 0.7418\n",
      "Epoch 10/30\n",
      "40/40 [==============================] - 43s 1s/step - loss: 0.4902 - acc: 0.7722 - val_loss: 0.5136 - val_acc: 0.7637\n",
      "Epoch 11/30\n",
      "40/40 [==============================] - 43s 1s/step - loss: 0.4511 - acc: 0.7973 - val_loss: 0.4986 - val_acc: 0.7857\n",
      "Epoch 12/30\n",
      "40/40 [==============================] - 43s 1s/step - loss: 0.4423 - acc: 0.8044 - val_loss: 0.4832 - val_acc: 0.7802\n",
      "Epoch 13/30\n",
      "40/40 [==============================] - 43s 1s/step - loss: 0.4349 - acc: 0.8107 - val_loss: 0.4539 - val_acc: 0.7940\n",
      "Epoch 14/30\n",
      "40/40 [==============================] - 43s 1s/step - loss: 0.4302 - acc: 0.8115 - val_loss: 0.4942 - val_acc: 0.7857\n",
      "Epoch 15/30\n",
      "40/40 [==============================] - 43s 1s/step - loss: 0.4188 - acc: 0.8162 - val_loss: 0.4559 - val_acc: 0.7802\n",
      "Epoch 16/30\n",
      "40/40 [==============================] - 43s 1s/step - loss: 0.3995 - acc: 0.8327 - val_loss: 0.5607 - val_acc: 0.7775\n",
      "Epoch 17/30\n",
      "40/40 [==============================] - 43s 1s/step - loss: 0.4098 - acc: 0.8225 - val_loss: 0.4668 - val_acc: 0.7995\n",
      "Epoch 18/30\n",
      "40/40 [==============================] - 43s 1s/step - loss: 0.3509 - acc: 0.8492 - val_loss: 0.4503 - val_acc: 0.8187\n",
      "Epoch 19/30\n",
      "40/40 [==============================] - 45s 1s/step - loss: 0.3904 - acc: 0.8233 - val_loss: 0.5973 - val_acc: 0.7720\n",
      "Epoch 20/30\n",
      "40/40 [==============================] - 45s 1s/step - loss: 0.4080 - acc: 0.8295 - val_loss: 0.6449 - val_acc: 0.7692\n",
      "Epoch 21/30\n",
      "40/40 [==============================] - 44s 1s/step - loss: 0.3518 - acc: 0.8492 - val_loss: 0.4672 - val_acc: 0.8077\n",
      "Epoch 22/30\n",
      "40/40 [==============================] - 44s 1s/step - loss: 0.3560 - acc: 0.8405 - val_loss: 0.4384 - val_acc: 0.8132\n",
      "Epoch 23/30\n",
      "40/40 [==============================] - 44s 1s/step - loss: 0.3295 - acc: 0.8617 - val_loss: 0.4351 - val_acc: 0.8159\n",
      "Epoch 24/30\n",
      "40/40 [==============================] - 44s 1s/step - loss: 0.3220 - acc: 0.8429 - val_loss: 0.4440 - val_acc: 0.8132\n",
      "Epoch 25/30\n",
      "40/40 [==============================] - 44s 1s/step - loss: 0.3058 - acc: 0.8727 - val_loss: 0.8469 - val_acc: 0.7418\n",
      "Epoch 26/30\n",
      "40/40 [==============================] - 45s 1s/step - loss: 0.3267 - acc: 0.8704 - val_loss: 0.4429 - val_acc: 0.8104\n",
      "Epoch 27/30\n",
      "40/40 [==============================] - 44s 1s/step - loss: 0.3305 - acc: 0.8602 - val_loss: 0.7276 - val_acc: 0.7390\n",
      "Epoch 28/30\n",
      "40/40 [==============================] - 44s 1s/step - loss: 0.3188 - acc: 0.8617 - val_loss: 0.4397 - val_acc: 0.8049\n",
      "Epoch 29/30\n",
      "40/40 [==============================] - 44s 1s/step - loss: 0.2923 - acc: 0.8767 - val_loss: 0.6142 - val_acc: 0.7665\n",
      "Epoch 30/30\n",
      "40/40 [==============================] - 44s 1s/step - loss: 0.3155 - acc: 0.8672 - val_loss: 0.5345 - val_acc: 0.7857\n"
     ]
    }
   ],
   "source": [
    "cnn_model_3 = cnn_3.fit_generator(train_generator,\n",
    "                              epochs = 30,\n",
    "                              steps_per_epoch = len(train_generator),\n",
    "                              validation_data = val_generator,\n",
    "                              validation_steps = len(val_generator),\n",
    "                              verbose = 1)"
   ]
  },
  {
   "cell_type": "code",
   "execution_count": 15,
   "id": "26cb4c8e",
   "metadata": {
    "ExecuteTime": {
     "end_time": "2021-05-27T19:05:52.195226Z",
     "start_time": "2021-05-27T19:05:52.133442Z"
    }
   },
   "outputs": [],
   "source": [
    " # Design the model\n",
    "    \n",
    "def build_model_4():\n",
    "    cnn = Sequential()\n",
    "\n",
    "    cnn.add(InputLayer(input_shape=(128, 128, 3)))\n",
    "\n",
    "    \n",
    "    cnn.add(Conv2D(64, (3, 3), activation='relu'))\n",
    "    cnn.add(MaxPooling2D((2, 2)))\n",
    "    cnn.add(Dropout(0.1))\n",
    "    \n",
    "    cnn.add(Conv2D(32, (3, 3), activation='relu'))\n",
    "    cnn.add(MaxPooling2D((2, 2)))\n",
    "    cnn.add(Dropout(0.1))\n",
    "    \n",
    "    cnn.add(Conv2D(16, (3, 3), activation='relu'))\n",
    "    cnn.add(MaxPooling2D((2, 2)))\n",
    "    cnn.add(Dropout(0.1))\n",
    "    \n",
    "\n",
    "    cnn.add(Flatten())\n",
    "    cnn.add(Dense(128, activation='relu'))\n",
    "    cnn.add(Dense(1, activation='sigmoid'))\n",
    "    \n",
    "    # Compile\n",
    "    cnn.compile(optimizer='adam',loss='binary_crossentropy',metrics=['acc'])\n",
    "    return cnn\n",
    "\n",
    "cnn_4 = build_model_4()"
   ]
  },
  {
   "cell_type": "code",
   "execution_count": 16,
   "id": "a2ea2aec",
   "metadata": {
    "ExecuteTime": {
     "end_time": "2021-05-27T19:17:16.219222Z",
     "start_time": "2021-05-27T19:05:52.764660Z"
    }
   },
   "outputs": [
    {
     "name": "stderr",
     "output_type": "stream",
     "text": [
      "C:\\Users\\DARTHV~1\\AppData\\Local\\Temp/ipykernel_13832/3523512513.py:1: UserWarning: `Model.fit_generator` is deprecated and will be removed in a future version. Please use `Model.fit`, which supports generators.\n",
      "  cnn_model_4 = cnn_4.fit_generator(train_generator,\n"
     ]
    },
    {
     "name": "stdout",
     "output_type": "stream",
     "text": [
      "Epoch 1/30\n",
      "40/40 [==============================] - 45s 1s/step - loss: 0.6900 - acc: 0.5648 - val_loss: 0.6795 - val_acc: 0.5549\n",
      "Epoch 2/30\n",
      "40/40 [==============================] - 19s 470ms/step - loss: 0.6620 - acc: 0.6253 - val_loss: 0.6533 - val_acc: 0.7060\n",
      "Epoch 3/30\n",
      "40/40 [==============================] - 19s 463ms/step - loss: 0.6036 - acc: 0.6976 - val_loss: 0.5717 - val_acc: 0.7033\n",
      "Epoch 4/30\n",
      "40/40 [==============================] - 19s 462ms/step - loss: 0.5575 - acc: 0.7258 - val_loss: 0.5414 - val_acc: 0.7363\n",
      "Epoch 5/30\n",
      "40/40 [==============================] - 19s 464ms/step - loss: 0.5560 - acc: 0.7219 - val_loss: 0.5215 - val_acc: 0.7610\n",
      "Epoch 6/30\n",
      "40/40 [==============================] - 19s 473ms/step - loss: 0.5100 - acc: 0.7526 - val_loss: 0.5060 - val_acc: 0.7665\n",
      "Epoch 7/30\n",
      "40/40 [==============================] - 19s 461ms/step - loss: 0.5229 - acc: 0.7439 - val_loss: 0.5385 - val_acc: 0.7418\n",
      "Epoch 8/30\n",
      "40/40 [==============================] - 19s 471ms/step - loss: 0.5071 - acc: 0.7565 - val_loss: 0.5057 - val_acc: 0.7637\n",
      "Epoch 9/30\n",
      "40/40 [==============================] - 18s 461ms/step - loss: 0.4663 - acc: 0.7824 - val_loss: 0.4899 - val_acc: 0.7830\n",
      "Epoch 10/30\n",
      "40/40 [==============================] - 18s 453ms/step - loss: 0.4782 - acc: 0.7738 - val_loss: 0.4872 - val_acc: 0.7747\n",
      "Epoch 11/30\n",
      "40/40 [==============================] - 18s 443ms/step - loss: 0.4778 - acc: 0.7800 - val_loss: 0.5320 - val_acc: 0.7308\n",
      "Epoch 12/30\n",
      "40/40 [==============================] - 18s 451ms/step - loss: 0.4681 - acc: 0.7855 - val_loss: 0.4585 - val_acc: 0.7940\n",
      "Epoch 13/30\n",
      "40/40 [==============================] - 19s 461ms/step - loss: 0.4313 - acc: 0.8091 - val_loss: 0.4807 - val_acc: 0.7775\n",
      "Epoch 14/30\n",
      "40/40 [==============================] - 18s 449ms/step - loss: 0.4206 - acc: 0.8099 - val_loss: 0.4788 - val_acc: 0.7995\n",
      "Epoch 15/30\n",
      "40/40 [==============================] - 18s 448ms/step - loss: 0.4291 - acc: 0.8091 - val_loss: 0.4740 - val_acc: 0.7775\n",
      "Epoch 16/30\n",
      "40/40 [==============================] - 18s 450ms/step - loss: 0.4412 - acc: 0.7997 - val_loss: 0.5814 - val_acc: 0.7390\n",
      "Epoch 17/30\n",
      "40/40 [==============================] - 18s 447ms/step - loss: 0.4018 - acc: 0.8256 - val_loss: 0.5055 - val_acc: 0.7747\n",
      "Epoch 18/30\n",
      "40/40 [==============================] - 18s 453ms/step - loss: 0.3946 - acc: 0.8295 - val_loss: 0.4278 - val_acc: 0.8077\n",
      "Epoch 19/30\n",
      "40/40 [==============================] - 18s 448ms/step - loss: 0.3845 - acc: 0.8358 - val_loss: 0.4727 - val_acc: 0.7692\n",
      "Epoch 20/30\n",
      "40/40 [==============================] - 18s 444ms/step - loss: 0.4042 - acc: 0.8185 - val_loss: 0.5310 - val_acc: 0.7582\n",
      "Epoch 21/30\n",
      "40/40 [==============================] - 18s 453ms/step - loss: 0.3935 - acc: 0.8233 - val_loss: 0.5238 - val_acc: 0.7775\n",
      "Epoch 22/30\n",
      "40/40 [==============================] - 18s 443ms/step - loss: 0.3660 - acc: 0.8319 - val_loss: 0.4572 - val_acc: 0.8132\n",
      "Epoch 23/30\n",
      "40/40 [==============================] - 18s 448ms/step - loss: 0.3580 - acc: 0.8460 - val_loss: 0.5350 - val_acc: 0.7720\n",
      "Epoch 24/30\n",
      "40/40 [==============================] - 18s 448ms/step - loss: 0.3434 - acc: 0.8531 - val_loss: 0.5173 - val_acc: 0.8187\n",
      "Epoch 25/30\n",
      "40/40 [==============================] - 18s 442ms/step - loss: 0.3558 - acc: 0.8492 - val_loss: 0.4561 - val_acc: 0.7940\n",
      "Epoch 26/30\n",
      "40/40 [==============================] - 18s 448ms/step - loss: 0.3638 - acc: 0.8437 - val_loss: 0.4952 - val_acc: 0.8104\n",
      "Epoch 27/30\n",
      "40/40 [==============================] - 18s 444ms/step - loss: 0.3593 - acc: 0.8484 - val_loss: 0.4817 - val_acc: 0.8159\n",
      "Epoch 28/30\n",
      "40/40 [==============================] - 18s 452ms/step - loss: 0.3428 - acc: 0.8602 - val_loss: 0.5229 - val_acc: 0.7940\n",
      "Epoch 29/30\n",
      "40/40 [==============================] - 18s 442ms/step - loss: 0.3195 - acc: 0.8720 - val_loss: 0.6155 - val_acc: 0.7582\n",
      "Epoch 30/30\n",
      "40/40 [==============================] - 18s 443ms/step - loss: 0.3086 - acc: 0.8720 - val_loss: 0.5725 - val_acc: 0.7363\n"
     ]
    }
   ],
   "source": [
    "cnn_model_4 = cnn_4.fit_generator(train_generator,\n",
    "                              epochs = 30,\n",
    "                              steps_per_epoch = len(train_generator),\n",
    "                              validation_data = val_generator,\n",
    "                              validation_steps = len(val_generator))"
   ]
  },
  {
   "cell_type": "code",
   "execution_count": 17,
   "id": "0ffe3dc7",
   "metadata": {
    "ExecuteTime": {
     "end_time": "2021-06-01T15:56:14.631064Z",
     "start_time": "2021-06-01T15:56:14.580228Z"
    }
   },
   "outputs": [],
   "source": [
    " # Design the model\n",
    "    \n",
    "def build_model_5():\n",
    "    cnn = Sequential()\n",
    "\n",
    "    cnn.add(InputLayer(input_shape=(128, 128, 3)))\n",
    "\n",
    "    \n",
    "    cnn.add(Conv2D(64, (3, 3), activation='relu'))\n",
    "    cnn.add(MaxPooling2D((2, 2)))\n",
    "    cnn.add(Dropout(0.1))\n",
    "    \n",
    "    cnn.add(Conv2D(32, (3, 3), activation='relu'))\n",
    "    cnn.add(MaxPooling2D((2, 2)))\n",
    "    cnn.add(Dropout(0.2))\n",
    "    \n",
    "    cnn.add(Conv2D(16, (3, 3), activation='relu'))\n",
    "    cnn.add(MaxPooling2D((2, 2)))\n",
    "    cnn.add(Dropout(0.25))\n",
    "    \n",
    "\n",
    "    cnn.add(Flatten())\n",
    "    cnn.add(Dense(128, activation='relu'))\n",
    "    cnn.add(Dense(1, activation='sigmoid'))\n",
    "    \n",
    "    # Compile\n",
    "    cnn.compile(optimizer='adam',loss='binary_crossentropy',metrics=['acc'])\n",
    "    return cnn\n",
    "\n",
    "cnn_5 = build_model_5()"
   ]
  },
  {
   "cell_type": "code",
   "execution_count": 18,
   "id": "39a7c224",
   "metadata": {
    "ExecuteTime": {
     "end_time": "2021-06-01T16:12:36.596019Z",
     "start_time": "2021-06-01T15:56:16.070078Z"
    },
    "scrolled": false
   },
   "outputs": [
    {
     "name": "stderr",
     "output_type": "stream",
     "text": [
      "C:\\Users\\DARTHV~1\\AppData\\Local\\Temp/ipykernel_13832/22032885.py:1: UserWarning: `Model.fit_generator` is deprecated and will be removed in a future version. Please use `Model.fit`, which supports generators.\n",
      "  cnn_model_5 = cnn_5.fit_generator(train_generator,\n"
     ]
    },
    {
     "name": "stdout",
     "output_type": "stream",
     "text": [
      "Epoch 1/30\n",
      "40/40 [==============================] - 19s 465ms/step - loss: 0.6848 - acc: 0.5593 - val_loss: 0.6390 - val_acc: 0.6896\n",
      "Epoch 2/30\n",
      "40/40 [==============================] - 18s 440ms/step - loss: 0.6145 - acc: 0.6976 - val_loss: 0.6012 - val_acc: 0.7005\n",
      "Epoch 3/30\n",
      "40/40 [==============================] - 18s 442ms/step - loss: 0.5753 - acc: 0.7211 - val_loss: 0.5582 - val_acc: 0.7418\n",
      "Epoch 4/30\n",
      "40/40 [==============================] - 18s 446ms/step - loss: 0.5524 - acc: 0.7266 - val_loss: 0.5509 - val_acc: 0.7280\n",
      "Epoch 5/30\n",
      "40/40 [==============================] - 18s 461ms/step - loss: 0.5402 - acc: 0.7298 - val_loss: 0.5729 - val_acc: 0.7060\n",
      "Epoch 6/30\n",
      "40/40 [==============================] - 20s 503ms/step - loss: 0.5290 - acc: 0.7533 - val_loss: 0.5552 - val_acc: 0.7308\n",
      "Epoch 7/30\n",
      "40/40 [==============================] - 19s 473ms/step - loss: 0.5155 - acc: 0.7683 - val_loss: 0.5085 - val_acc: 0.7637\n",
      "Epoch 8/30\n",
      "40/40 [==============================] - 18s 449ms/step - loss: 0.4973 - acc: 0.7777 - val_loss: 0.4884 - val_acc: 0.7747\n",
      "Epoch 9/30\n",
      "40/40 [==============================] - 18s 457ms/step - loss: 0.4866 - acc: 0.7808 - val_loss: 0.4895 - val_acc: 0.7802\n",
      "Epoch 10/30\n",
      "40/40 [==============================] - 18s 458ms/step - loss: 0.4586 - acc: 0.7871 - val_loss: 0.4656 - val_acc: 0.7830\n",
      "Epoch 11/30\n",
      "40/40 [==============================] - 18s 456ms/step - loss: 0.4426 - acc: 0.8075 - val_loss: 0.5349 - val_acc: 0.7665\n",
      "Epoch 12/30\n",
      "40/40 [==============================] - 18s 452ms/step - loss: 0.4570 - acc: 0.8028 - val_loss: 0.4669 - val_acc: 0.8022\n",
      "Epoch 13/30\n",
      "40/40 [==============================] - 18s 454ms/step - loss: 0.4337 - acc: 0.8036 - val_loss: 0.4671 - val_acc: 0.7775\n",
      "Epoch 14/30\n",
      "40/40 [==============================] - 18s 457ms/step - loss: 0.4298 - acc: 0.8178 - val_loss: 0.4805 - val_acc: 0.7885\n",
      "Epoch 15/30\n",
      "40/40 [==============================] - 18s 458ms/step - loss: 0.4249 - acc: 0.8060 - val_loss: 0.4564 - val_acc: 0.7857\n",
      "Epoch 16/30\n",
      "40/40 [==============================] - 18s 452ms/step - loss: 0.4203 - acc: 0.8170 - val_loss: 0.4925 - val_acc: 0.7940\n",
      "Epoch 17/30\n",
      "40/40 [==============================] - 18s 456ms/step - loss: 0.4077 - acc: 0.8162 - val_loss: 0.4684 - val_acc: 0.7967\n",
      "Epoch 18/30\n",
      "40/40 [==============================] - 18s 458ms/step - loss: 0.4046 - acc: 0.8256 - val_loss: 0.4635 - val_acc: 0.7967\n",
      "Epoch 19/30\n",
      "40/40 [==============================] - 18s 449ms/step - loss: 0.3965 - acc: 0.8382 - val_loss: 0.4076 - val_acc: 0.8297\n",
      "Epoch 20/30\n",
      "40/40 [==============================] - 18s 454ms/step - loss: 0.3943 - acc: 0.8327 - val_loss: 0.5334 - val_acc: 0.7720\n",
      "Epoch 21/30\n",
      "40/40 [==============================] - 18s 459ms/step - loss: 0.3857 - acc: 0.8319 - val_loss: 0.4782 - val_acc: 0.7912\n",
      "Epoch 22/30\n",
      "40/40 [==============================] - 18s 455ms/step - loss: 0.3749 - acc: 0.8311 - val_loss: 0.4626 - val_acc: 0.8104\n",
      "Epoch 23/30\n",
      "40/40 [==============================] - 18s 451ms/step - loss: 0.3488 - acc: 0.8500 - val_loss: 0.3901 - val_acc: 0.8269\n",
      "Epoch 24/30\n",
      "40/40 [==============================] - 18s 450ms/step - loss: 0.3576 - acc: 0.8539 - val_loss: 0.4086 - val_acc: 0.8242\n",
      "Epoch 25/30\n",
      "40/40 [==============================] - 18s 463ms/step - loss: 0.3629 - acc: 0.8390 - val_loss: 0.5953 - val_acc: 0.7115\n",
      "Epoch 26/30\n",
      "40/40 [==============================] - 18s 449ms/step - loss: 0.3524 - acc: 0.8500 - val_loss: 0.4619 - val_acc: 0.8159\n",
      "Epoch 27/30\n",
      "40/40 [==============================] - 18s 451ms/step - loss: 0.3631 - acc: 0.8445 - val_loss: 0.3908 - val_acc: 0.8214\n",
      "Epoch 28/30\n",
      "40/40 [==============================] - 18s 458ms/step - loss: 0.3356 - acc: 0.8523 - val_loss: 0.4003 - val_acc: 0.8324\n",
      "Epoch 29/30\n",
      "40/40 [==============================] - 18s 452ms/step - loss: 0.3341 - acc: 0.8578 - val_loss: 0.4130 - val_acc: 0.8242\n",
      "Epoch 30/30\n",
      "40/40 [==============================] - 18s 455ms/step - loss: 0.3070 - acc: 0.8649 - val_loss: 0.4283 - val_acc: 0.8242\n"
     ]
    }
   ],
   "source": [
    "cnn_model_5 = cnn_5.fit_generator(train_generator,\n",
    "                              epochs = 30,\n",
    "                              steps_per_epoch = len(train_generator),\n",
    "                              validation_data = val_generator,\n",
    "                              validation_steps = len(val_generator))"
   ]
  },
  {
   "cell_type": "code",
   "execution_count": 19,
   "id": "8fb6d42a",
   "metadata": {
    "ExecuteTime": {
     "end_time": "2021-06-01T16:13:02.857048Z",
     "start_time": "2021-06-01T16:13:02.793714Z"
    }
   },
   "outputs": [],
   "source": [
    " # Design the model\n",
    "    \n",
    "def build_model_6():\n",
    "    cnn = Sequential()\n",
    "\n",
    "    cnn.add(InputLayer(input_shape=(128, 128, 3)))\n",
    "\n",
    "    cnn.add(Conv2D(128, (3, 3), activation='relu'))\n",
    "    cnn.add(MaxPooling2D((2, 2)))\n",
    "    cnn.add(Dropout(0.1))\n",
    "    \n",
    "    cnn.add(Conv2D(64, (3, 3), activation='relu'))\n",
    "    cnn.add(MaxPooling2D((2, 2)))\n",
    "    cnn.add(Dropout(0.2))\n",
    "    \n",
    "    cnn.add(Conv2D(32, (3, 3), activation='relu'))\n",
    "    cnn.add(MaxPooling2D((2, 2)))\n",
    "    cnn.add(Dropout(0.2))\n",
    "    \n",
    "    cnn.add(Conv2D(16, (3, 3), activation='relu'))\n",
    "    cnn.add(MaxPooling2D((2, 2)))\n",
    "    cnn.add(Dropout(0.2))\n",
    "    \n",
    "\n",
    "    cnn.add(Flatten())\n",
    "    cnn.add(Dense(128, activation='relu'))\n",
    "    cnn.add(Dropout(0.2))\n",
    "    cnn.add(Dense(1, activation='sigmoid'))\n",
    "    \n",
    "    # Compile\n",
    "    cnn.compile(optimizer='adam',loss='binary_crossentropy',metrics=['acc'])\n",
    "    return cnn\n",
    "\n",
    "cnn_6 = build_model_6()"
   ]
  },
  {
   "cell_type": "code",
   "execution_count": 20,
   "id": "8bd47dfa",
   "metadata": {
    "ExecuteTime": {
     "end_time": "2021-06-01T16:28:18.143679Z",
     "start_time": "2021-06-01T16:13:03.291434Z"
    },
    "scrolled": false
   },
   "outputs": [
    {
     "name": "stderr",
     "output_type": "stream",
     "text": [
      "C:\\Users\\DARTHV~1\\AppData\\Local\\Temp/ipykernel_13832/3728464860.py:1: UserWarning: `Model.fit_generator` is deprecated and will be removed in a future version. Please use `Model.fit`, which supports generators.\n",
      "  cnn_model_6 = cnn_6.fit_generator(train_generator,\n"
     ]
    },
    {
     "name": "stdout",
     "output_type": "stream",
     "text": [
      "Epoch 1/100\n",
      "40/40 [==============================] - 19s 468ms/step - loss: 0.6906 - acc: 0.5679 - val_loss: 0.6463 - val_acc: 0.6703\n",
      "Epoch 2/100\n",
      "40/40 [==============================] - 18s 456ms/step - loss: 0.6243 - acc: 0.6646 - val_loss: 0.5976 - val_acc: 0.7198\n",
      "Epoch 3/100\n",
      "40/40 [==============================] - 18s 445ms/step - loss: 0.5904 - acc: 0.7164 - val_loss: 0.5609 - val_acc: 0.7390\n",
      "Epoch 4/100\n",
      "40/40 [==============================] - 18s 447ms/step - loss: 0.5613 - acc: 0.7384 - val_loss: 0.5581 - val_acc: 0.7363\n",
      "Epoch 5/100\n",
      "40/40 [==============================] - 18s 453ms/step - loss: 0.5854 - acc: 0.7125 - val_loss: 0.6152 - val_acc: 0.6813\n",
      "Epoch 6/100\n",
      "40/40 [==============================] - 18s 451ms/step - loss: 0.5584 - acc: 0.7243 - val_loss: 0.5336 - val_acc: 0.7418\n",
      "Epoch 7/100\n",
      "40/40 [==============================] - 18s 455ms/step - loss: 0.5386 - acc: 0.7471 - val_loss: 0.5408 - val_acc: 0.7720\n",
      "Epoch 8/100\n",
      "40/40 [==============================] - 18s 455ms/step - loss: 0.5130 - acc: 0.7541 - val_loss: 0.5492 - val_acc: 0.7280\n",
      "Epoch 9/100\n",
      "40/40 [==============================] - 18s 442ms/step - loss: 0.5102 - acc: 0.7486 - val_loss: 0.5446 - val_acc: 0.7500\n",
      "Epoch 10/100\n",
      "40/40 [==============================] - 18s 454ms/step - loss: 0.4871 - acc: 0.7698 - val_loss: 0.5059 - val_acc: 0.7692\n",
      "Epoch 11/100\n",
      "40/40 [==============================] - 18s 451ms/step - loss: 0.5010 - acc: 0.7793 - val_loss: 0.5040 - val_acc: 0.7610\n",
      "Epoch 12/100\n",
      "40/40 [==============================] - 18s 447ms/step - loss: 0.4813 - acc: 0.7793 - val_loss: 0.5028 - val_acc: 0.7637\n",
      "Epoch 13/100\n",
      "40/40 [==============================] - 18s 445ms/step - loss: 0.4652 - acc: 0.7934 - val_loss: 0.4833 - val_acc: 0.7747\n",
      "Epoch 14/100\n",
      "40/40 [==============================] - 18s 456ms/step - loss: 0.4656 - acc: 0.7950 - val_loss: 0.4926 - val_acc: 0.7857\n",
      "Epoch 15/100\n",
      "40/40 [==============================] - 18s 453ms/step - loss: 0.4456 - acc: 0.7950 - val_loss: 0.4551 - val_acc: 0.7775\n",
      "Epoch 16/100\n",
      "40/40 [==============================] - 18s 448ms/step - loss: 0.4314 - acc: 0.8099 - val_loss: 0.4852 - val_acc: 0.7610\n",
      "Epoch 17/100\n",
      "40/40 [==============================] - 18s 453ms/step - loss: 0.4483 - acc: 0.7989 - val_loss: 0.4485 - val_acc: 0.7830\n",
      "Epoch 18/100\n",
      "40/40 [==============================] - 18s 460ms/step - loss: 0.4473 - acc: 0.7965 - val_loss: 0.4644 - val_acc: 0.7857\n",
      "Epoch 19/100\n",
      "40/40 [==============================] - 18s 456ms/step - loss: 0.4379 - acc: 0.8107 - val_loss: 0.4679 - val_acc: 0.7995\n",
      "Epoch 20/100\n",
      "40/40 [==============================] - 18s 448ms/step - loss: 0.4189 - acc: 0.8201 - val_loss: 0.5664 - val_acc: 0.7418\n",
      "Epoch 21/100\n",
      "40/40 [==============================] - 18s 462ms/step - loss: 0.4175 - acc: 0.8123 - val_loss: 0.4717 - val_acc: 0.8269\n",
      "Epoch 22/100\n",
      "40/40 [==============================] - 18s 450ms/step - loss: 0.4028 - acc: 0.8178 - val_loss: 0.4431 - val_acc: 0.7720\n",
      "Epoch 23/100\n",
      "40/40 [==============================] - 18s 447ms/step - loss: 0.3991 - acc: 0.8185 - val_loss: 0.4588 - val_acc: 0.7802\n",
      "Epoch 24/100\n",
      "40/40 [==============================] - 18s 456ms/step - loss: 0.4180 - acc: 0.8060 - val_loss: 0.4172 - val_acc: 0.8049\n",
      "Epoch 25/100\n",
      "40/40 [==============================] - 18s 459ms/step - loss: 0.3814 - acc: 0.8264 - val_loss: 0.4560 - val_acc: 0.7885\n",
      "Epoch 26/100\n",
      "40/40 [==============================] - 18s 455ms/step - loss: 0.3926 - acc: 0.8327 - val_loss: 0.6417 - val_acc: 0.7500\n",
      "Epoch 27/100\n",
      "40/40 [==============================] - 18s 455ms/step - loss: 0.3797 - acc: 0.8374 - val_loss: 0.4343 - val_acc: 0.7830\n",
      "Epoch 28/100\n",
      "40/40 [==============================] - 18s 454ms/step - loss: 0.3859 - acc: 0.8256 - val_loss: 0.4082 - val_acc: 0.8242\n",
      "Epoch 29/100\n",
      "40/40 [==============================] - 18s 454ms/step - loss: 0.4193 - acc: 0.8154 - val_loss: 0.4398 - val_acc: 0.8104\n",
      "Epoch 30/100\n",
      "40/40 [==============================] - 18s 461ms/step - loss: 0.3851 - acc: 0.8280 - val_loss: 0.4790 - val_acc: 0.7802\n",
      "Epoch 31/100\n",
      "40/40 [==============================] - 18s 454ms/step - loss: 0.3623 - acc: 0.8437 - val_loss: 0.4032 - val_acc: 0.8132\n",
      "Epoch 32/100\n",
      "40/40 [==============================] - 18s 449ms/step - loss: 0.3640 - acc: 0.8342 - val_loss: 0.3855 - val_acc: 0.8159\n",
      "Epoch 33/100\n",
      "40/40 [==============================] - 18s 444ms/step - loss: 0.3587 - acc: 0.8413 - val_loss: 0.3918 - val_acc: 0.8159\n",
      "Epoch 34/100\n",
      "40/40 [==============================] - 18s 460ms/step - loss: 0.3598 - acc: 0.8366 - val_loss: 0.4285 - val_acc: 0.8242\n",
      "Epoch 35/100\n",
      "40/40 [==============================] - 18s 444ms/step - loss: 0.3581 - acc: 0.8405 - val_loss: 0.4303 - val_acc: 0.7912\n",
      "Epoch 36/100\n",
      "40/40 [==============================] - 18s 452ms/step - loss: 0.3778 - acc: 0.8382 - val_loss: 0.3822 - val_acc: 0.8214\n",
      "Epoch 37/100\n",
      "40/40 [==============================] - 18s 447ms/step - loss: 0.4113 - acc: 0.8091 - val_loss: 0.4683 - val_acc: 0.8022\n",
      "Epoch 38/100\n",
      "40/40 [==============================] - 18s 457ms/step - loss: 0.3669 - acc: 0.8452 - val_loss: 0.4283 - val_acc: 0.8104\n",
      "Epoch 39/100\n",
      "40/40 [==============================] - 18s 450ms/step - loss: 0.3558 - acc: 0.8452 - val_loss: 0.3997 - val_acc: 0.8297\n",
      "Epoch 40/100\n",
      "40/40 [==============================] - 18s 450ms/step - loss: 0.3370 - acc: 0.8445 - val_loss: 0.4768 - val_acc: 0.8104\n",
      "Epoch 41/100\n",
      "40/40 [==============================] - 18s 453ms/step - loss: 0.3440 - acc: 0.8484 - val_loss: 0.4248 - val_acc: 0.8187\n",
      "Epoch 42/100\n",
      "40/40 [==============================] - 18s 444ms/step - loss: 0.3253 - acc: 0.8531 - val_loss: 0.5001 - val_acc: 0.7940\n",
      "Epoch 43/100\n",
      "40/40 [==============================] - 18s 455ms/step - loss: 0.3319 - acc: 0.8539 - val_loss: 0.4038 - val_acc: 0.8049\n",
      "Epoch 44/100\n",
      "40/40 [==============================] - 18s 451ms/step - loss: 0.3286 - acc: 0.8547 - val_loss: 0.4222 - val_acc: 0.8242\n",
      "Epoch 45/100\n",
      "40/40 [==============================] - 18s 455ms/step - loss: 0.3317 - acc: 0.8578 - val_loss: 0.4152 - val_acc: 0.7912\n",
      "Epoch 46/100\n",
      "40/40 [==============================] - 18s 451ms/step - loss: 0.3568 - acc: 0.8507 - val_loss: 0.4628 - val_acc: 0.8104\n",
      "Epoch 47/100\n",
      "40/40 [==============================] - 18s 450ms/step - loss: 0.3203 - acc: 0.8610 - val_loss: 0.4211 - val_acc: 0.8297\n",
      "Epoch 48/100\n",
      "40/40 [==============================] - 18s 458ms/step - loss: 0.3208 - acc: 0.8641 - val_loss: 0.3736 - val_acc: 0.8352\n",
      "Epoch 49/100\n",
      "40/40 [==============================] - 18s 452ms/step - loss: 0.3241 - acc: 0.8602 - val_loss: 0.3831 - val_acc: 0.8379\n",
      "Epoch 50/100\n",
      "40/40 [==============================] - 18s 454ms/step - loss: 0.3184 - acc: 0.8610 - val_loss: 0.4156 - val_acc: 0.8324\n",
      "Epoch 51/100\n",
      "40/40 [==============================] - 18s 459ms/step - loss: 0.3215 - acc: 0.8602 - val_loss: 0.3716 - val_acc: 0.8269\n",
      "Epoch 52/100\n",
      "40/40 [==============================] - 18s 450ms/step - loss: 0.3419 - acc: 0.8452 - val_loss: 0.3864 - val_acc: 0.8242\n",
      "Epoch 53/100\n",
      "40/40 [==============================] - 18s 457ms/step - loss: 0.3365 - acc: 0.8547 - val_loss: 0.4639 - val_acc: 0.8104\n",
      "Epoch 54/100\n",
      "40/40 [==============================] - 18s 450ms/step - loss: 0.3210 - acc: 0.8555 - val_loss: 0.3855 - val_acc: 0.8379\n",
      "Epoch 55/100\n",
      "40/40 [==============================] - 18s 453ms/step - loss: 0.3339 - acc: 0.8625 - val_loss: 0.3845 - val_acc: 0.8407\n",
      "Epoch 56/100\n",
      "40/40 [==============================] - 18s 453ms/step - loss: 0.3130 - acc: 0.8602 - val_loss: 0.3708 - val_acc: 0.8434\n",
      "Epoch 57/100\n",
      "40/40 [==============================] - 18s 452ms/step - loss: 0.3090 - acc: 0.8672 - val_loss: 0.4036 - val_acc: 0.8297\n",
      "Epoch 58/100\n",
      "40/40 [==============================] - 18s 456ms/step - loss: 0.2959 - acc: 0.8767 - val_loss: 0.3870 - val_acc: 0.8297\n",
      "Epoch 59/100\n",
      "40/40 [==============================] - 18s 455ms/step - loss: 0.2951 - acc: 0.8775 - val_loss: 0.4143 - val_acc: 0.8434\n",
      "Epoch 60/100\n",
      "40/40 [==============================] - 18s 455ms/step - loss: 0.3091 - acc: 0.8610 - val_loss: 0.3918 - val_acc: 0.8434\n",
      "Epoch 61/100\n",
      "40/40 [==============================] - 18s 452ms/step - loss: 0.3074 - acc: 0.8727 - val_loss: 0.3735 - val_acc: 0.8434\n",
      "Epoch 62/100\n",
      "40/40 [==============================] - 18s 456ms/step - loss: 0.2826 - acc: 0.8892 - val_loss: 0.4205 - val_acc: 0.8434\n",
      "Epoch 63/100\n",
      "40/40 [==============================] - 18s 444ms/step - loss: 0.2520 - acc: 0.8971 - val_loss: 0.3829 - val_acc: 0.8462\n",
      "Epoch 64/100\n",
      "40/40 [==============================] - 18s 449ms/step - loss: 0.2682 - acc: 0.8908 - val_loss: 0.4094 - val_acc: 0.8462\n",
      "Epoch 65/100\n",
      "40/40 [==============================] - 18s 448ms/step - loss: 0.3035 - acc: 0.8688 - val_loss: 0.3794 - val_acc: 0.8242\n",
      "Epoch 66/100\n",
      "40/40 [==============================] - 18s 451ms/step - loss: 0.2791 - acc: 0.8814 - val_loss: 0.4745 - val_acc: 0.8187\n",
      "Epoch 67/100\n",
      "40/40 [==============================] - 18s 446ms/step - loss: 0.2760 - acc: 0.8877 - val_loss: 0.3829 - val_acc: 0.8324\n",
      "Epoch 68/100\n",
      "40/40 [==============================] - 18s 455ms/step - loss: 0.2815 - acc: 0.8837 - val_loss: 0.4552 - val_acc: 0.8379\n",
      "Epoch 69/100\n",
      "40/40 [==============================] - 18s 452ms/step - loss: 0.2656 - acc: 0.8885 - val_loss: 0.3976 - val_acc: 0.8434\n",
      "Epoch 70/100\n",
      "40/40 [==============================] - 18s 450ms/step - loss: 0.2610 - acc: 0.8830 - val_loss: 0.4892 - val_acc: 0.8571\n",
      "Epoch 71/100\n",
      "40/40 [==============================] - 18s 450ms/step - loss: 0.2707 - acc: 0.8845 - val_loss: 0.4255 - val_acc: 0.8104\n",
      "Epoch 72/100\n",
      "40/40 [==============================] - 18s 455ms/step - loss: 0.2851 - acc: 0.8767 - val_loss: 0.3946 - val_acc: 0.8297\n",
      "Epoch 73/100\n",
      "40/40 [==============================] - 18s 449ms/step - loss: 0.2769 - acc: 0.8790 - val_loss: 0.3900 - val_acc: 0.8352\n",
      "Epoch 74/100\n",
      "40/40 [==============================] - 19s 471ms/step - loss: 0.2786 - acc: 0.8751 - val_loss: 0.3907 - val_acc: 0.8434\n",
      "Epoch 75/100\n",
      "40/40 [==============================] - 18s 452ms/step - loss: 0.2514 - acc: 0.8885 - val_loss: 0.3606 - val_acc: 0.8352\n",
      "Epoch 76/100\n",
      "40/40 [==============================] - 18s 452ms/step - loss: 0.2716 - acc: 0.8861 - val_loss: 0.3785 - val_acc: 0.8324\n",
      "Epoch 77/100\n",
      "40/40 [==============================] - 18s 456ms/step - loss: 0.2580 - acc: 0.8908 - val_loss: 0.5902 - val_acc: 0.8077\n",
      "Epoch 78/100\n",
      "40/40 [==============================] - 18s 453ms/step - loss: 0.2997 - acc: 0.8672 - val_loss: 0.4122 - val_acc: 0.8214\n",
      "Epoch 79/100\n",
      "40/40 [==============================] - 18s 452ms/step - loss: 0.2634 - acc: 0.8877 - val_loss: 0.4028 - val_acc: 0.8297\n",
      "Epoch 80/100\n",
      "40/40 [==============================] - 18s 451ms/step - loss: 0.2799 - acc: 0.8892 - val_loss: 0.3588 - val_acc: 0.8379\n",
      "Epoch 81/100\n",
      "40/40 [==============================] - 18s 458ms/step - loss: 0.2691 - acc: 0.8955 - val_loss: 0.3823 - val_acc: 0.8544\n",
      "Epoch 82/100\n",
      "40/40 [==============================] - 18s 457ms/step - loss: 0.2547 - acc: 0.8900 - val_loss: 0.4079 - val_acc: 0.8352\n",
      "Epoch 83/100\n",
      "40/40 [==============================] - 18s 456ms/step - loss: 0.2504 - acc: 0.8979 - val_loss: 0.4240 - val_acc: 0.8489\n",
      "Epoch 84/100\n",
      "40/40 [==============================] - 18s 455ms/step - loss: 0.2495 - acc: 0.8971 - val_loss: 0.4087 - val_acc: 0.8407\n",
      "Epoch 85/100\n",
      "40/40 [==============================] - 18s 450ms/step - loss: 0.2366 - acc: 0.8885 - val_loss: 0.3908 - val_acc: 0.8407\n",
      "Epoch 86/100\n",
      "40/40 [==============================] - 18s 450ms/step - loss: 0.2081 - acc: 0.9159 - val_loss: 0.4311 - val_acc: 0.8297\n",
      "Epoch 87/100\n",
      "40/40 [==============================] - 18s 447ms/step - loss: 0.2678 - acc: 0.8963 - val_loss: 0.3833 - val_acc: 0.8407\n",
      "Epoch 88/100\n",
      "40/40 [==============================] - 18s 456ms/step - loss: 0.2461 - acc: 0.8932 - val_loss: 0.4356 - val_acc: 0.8324\n",
      "Epoch 89/100\n",
      "40/40 [==============================] - 18s 444ms/step - loss: 0.2206 - acc: 0.9057 - val_loss: 0.5232 - val_acc: 0.8297\n",
      "Epoch 90/100\n",
      "40/40 [==============================] - 18s 450ms/step - loss: 0.2469 - acc: 0.9034 - val_loss: 0.4079 - val_acc: 0.8379\n",
      "Epoch 91/100\n",
      "40/40 [==============================] - 18s 444ms/step - loss: 0.2254 - acc: 0.9073 - val_loss: 0.4709 - val_acc: 0.8324\n",
      "Epoch 92/100\n",
      "40/40 [==============================] - 18s 441ms/step - loss: 0.2417 - acc: 0.8908 - val_loss: 0.3873 - val_acc: 0.8434\n",
      "Epoch 93/100\n",
      "40/40 [==============================] - 18s 442ms/step - loss: 0.2227 - acc: 0.9112 - val_loss: 0.3739 - val_acc: 0.8516\n",
      "Epoch 94/100\n",
      "40/40 [==============================] - 18s 452ms/step - loss: 0.2173 - acc: 0.9081 - val_loss: 0.4535 - val_acc: 0.8269\n",
      "Epoch 95/100\n",
      "40/40 [==============================] - 18s 448ms/step - loss: 0.2176 - acc: 0.9120 - val_loss: 0.4620 - val_acc: 0.8352\n",
      "Epoch 96/100\n",
      "40/40 [==============================] - 18s 450ms/step - loss: 0.2194 - acc: 0.9128 - val_loss: 0.5477 - val_acc: 0.8049\n",
      "Epoch 97/100\n",
      "40/40 [==============================] - 18s 445ms/step - loss: 0.2205 - acc: 0.9057 - val_loss: 0.4546 - val_acc: 0.8187\n",
      "Epoch 98/100\n",
      "40/40 [==============================] - 18s 446ms/step - loss: 0.2236 - acc: 0.9065 - val_loss: 0.4603 - val_acc: 0.8489\n",
      "Epoch 99/100\n",
      "40/40 [==============================] - 18s 444ms/step - loss: 0.2213 - acc: 0.9049 - val_loss: 0.4249 - val_acc: 0.8462\n",
      "Epoch 100/100\n",
      "40/40 [==============================] - 18s 443ms/step - loss: 0.2303 - acc: 0.9073 - val_loss: 0.4277 - val_acc: 0.8407\n"
     ]
    }
   ],
   "source": [
    "cnn_model_6 = cnn_6.fit_generator(train_generator,\n",
    "                              epochs = 100,\n",
    "                              steps_per_epoch = len(train_generator),\n",
    "                              validation_data = val_generator,\n",
    "                              validation_steps = len(val_generator))"
   ]
  },
  {
   "cell_type": "code",
   "execution_count": 28,
   "id": "6dbae234",
   "metadata": {},
   "outputs": [
    {
     "name": "stdout",
     "output_type": "stream",
     "text": [
      "Model: \"sequential_4\"\n",
      "_________________________________________________________________\n",
      " Layer (type)                Output Shape              Param #   \n",
      "=================================================================\n",
      " conv2d_13 (Conv2D)          (None, 126, 126, 128)     3584      \n",
      "                                                                 \n",
      " max_pooling2d_13 (MaxPoolin  (None, 63, 63, 128)      0         \n",
      " g2D)                                                            \n",
      "                                                                 \n",
      " dropout_6 (Dropout)         (None, 63, 63, 128)       0         \n",
      "                                                                 \n",
      " conv2d_14 (Conv2D)          (None, 61, 61, 64)        73792     \n",
      "                                                                 \n",
      " max_pooling2d_14 (MaxPoolin  (None, 30, 30, 64)       0         \n",
      " g2D)                                                            \n",
      "                                                                 \n",
      " dropout_7 (Dropout)         (None, 30, 30, 64)        0         \n",
      "                                                                 \n",
      " conv2d_15 (Conv2D)          (None, 28, 28, 32)        18464     \n",
      "                                                                 \n",
      " max_pooling2d_15 (MaxPoolin  (None, 14, 14, 32)       0         \n",
      " g2D)                                                            \n",
      "                                                                 \n",
      " dropout_8 (Dropout)         (None, 14, 14, 32)        0         \n",
      "                                                                 \n",
      " conv2d_16 (Conv2D)          (None, 12, 12, 16)        4624      \n",
      "                                                                 \n",
      " max_pooling2d_16 (MaxPoolin  (None, 6, 6, 16)         0         \n",
      " g2D)                                                            \n",
      "                                                                 \n",
      " dropout_9 (Dropout)         (None, 6, 6, 16)          0         \n",
      "                                                                 \n",
      " flatten_4 (Flatten)         (None, 576)               0         \n",
      "                                                                 \n",
      " dense_8 (Dense)             (None, 128)               73856     \n",
      "                                                                 \n",
      " dropout_10 (Dropout)        (None, 128)               0         \n",
      "                                                                 \n",
      " dense_9 (Dense)             (None, 1)                 129       \n",
      "                                                                 \n",
      "=================================================================\n",
      "Total params: 174,449\n",
      "Trainable params: 174,449\n",
      "Non-trainable params: 0\n",
      "_________________________________________________________________\n"
     ]
    }
   ],
   "source": [
    "cnn_6.summary()"
   ]
  },
  {
   "cell_type": "code",
   "execution_count": 21,
   "id": "c00dd16f",
   "metadata": {
    "ExecuteTime": {
     "end_time": "2021-06-01T16:29:46.231652Z",
     "start_time": "2021-06-01T16:29:46.148405Z"
    }
   },
   "outputs": [],
   "source": [
    " # Design the model\n",
    "    \n",
    "def build_model_7():\n",
    "    cnn = Sequential()\n",
    "\n",
    "    cnn.add(InputLayer(input_shape=(128, 128, 3)))\n",
    "\n",
    "    cnn.add(Conv2D(128, (3, 3), activation='relu'))\n",
    "    cnn.add(MaxPooling2D((2, 2)))\n",
    "    cnn.add(Dropout(0.1))\n",
    "    \n",
    "    cnn.add(Conv2D(64, (3, 3), activation='relu'))\n",
    "    cnn.add(MaxPooling2D((2, 2)))\n",
    "    cnn.add(Dropout(0.2))\n",
    "    \n",
    "    cnn.add(Conv2D(32, (3, 3), activation='relu'))\n",
    "    cnn.add(MaxPooling2D((2, 2)))\n",
    "    cnn.add(Dropout(0.2))\n",
    "    \n",
    "    cnn.add(Conv2D(16, (3, 3), activation='relu'))\n",
    "    cnn.add(MaxPooling2D((2, 2)))\n",
    "    cnn.add(Dropout(0.2))\n",
    "    \n",
    "\n",
    "    cnn.add(Flatten())\n",
    "    cnn.add(Dense(128, activation='relu'))\n",
    "    cnn.add(Dense(1, activation='sigmoid'))\n",
    "    \n",
    "    # Compile\n",
    "    cnn.compile(optimizer='adam',loss='binary_crossentropy',metrics=['acc'])\n",
    "    return cnn\n",
    "\n",
    "cnn_7 = build_model_7()"
   ]
  },
  {
   "cell_type": "code",
   "execution_count": 22,
   "id": "cf099502",
   "metadata": {
    "ExecuteTime": {
     "end_time": "2021-06-01T16:47:02.411722Z",
     "start_time": "2021-06-01T16:29:52.915412Z"
    }
   },
   "outputs": [
    {
     "name": "stderr",
     "output_type": "stream",
     "text": [
      "C:\\Users\\DARTHV~1\\AppData\\Local\\Temp/ipykernel_13832/2817708060.py:1: UserWarning: `Model.fit_generator` is deprecated and will be removed in a future version. Please use `Model.fit`, which supports generators.\n",
      "  cnn_model_7 = cnn_7.fit_generator(train_generator,\n"
     ]
    },
    {
     "name": "stdout",
     "output_type": "stream",
     "text": [
      "Epoch 1/30\n",
      "40/40 [==============================] - 19s 468ms/step - loss: 0.6832 - acc: 0.5397 - val_loss: 0.6889 - val_acc: 0.5412\n",
      "Epoch 2/30\n",
      "40/40 [==============================] - 18s 442ms/step - loss: 0.6498 - acc: 0.6426 - val_loss: 0.7782 - val_acc: 0.5357\n",
      "Epoch 3/30\n",
      "40/40 [==============================] - 18s 444ms/step - loss: 0.6556 - acc: 0.6292 - val_loss: 0.5719 - val_acc: 0.7280\n",
      "Epoch 4/30\n",
      "40/40 [==============================] - 19s 467ms/step - loss: 0.5706 - acc: 0.7243 - val_loss: 0.6108 - val_acc: 0.7308\n",
      "Epoch 5/30\n",
      "40/40 [==============================] - 18s 456ms/step - loss: 0.5519 - acc: 0.7361 - val_loss: 0.6193 - val_acc: 0.6648\n",
      "Epoch 6/30\n",
      "40/40 [==============================] - 18s 454ms/step - loss: 0.5445 - acc: 0.7258 - val_loss: 0.5675 - val_acc: 0.7418\n",
      "Epoch 7/30\n",
      "40/40 [==============================] - 18s 448ms/step - loss: 0.5317 - acc: 0.7518 - val_loss: 0.5872 - val_acc: 0.7335\n",
      "Epoch 8/30\n",
      "40/40 [==============================] - 18s 449ms/step - loss: 0.5149 - acc: 0.7557 - val_loss: 0.4943 - val_acc: 0.7775\n",
      "Epoch 9/30\n",
      "40/40 [==============================] - 18s 445ms/step - loss: 0.4907 - acc: 0.7722 - val_loss: 0.4952 - val_acc: 0.7857\n",
      "Epoch 10/30\n",
      "40/40 [==============================] - 18s 442ms/step - loss: 0.4725 - acc: 0.7816 - val_loss: 0.5712 - val_acc: 0.7473\n",
      "Epoch 11/30\n",
      "40/40 [==============================] - 18s 451ms/step - loss: 0.4610 - acc: 0.7903 - val_loss: 0.4797 - val_acc: 0.7830\n",
      "Epoch 12/30\n",
      "40/40 [==============================] - 18s 448ms/step - loss: 0.4551 - acc: 0.8060 - val_loss: 0.4888 - val_acc: 0.7775\n",
      "Epoch 13/30\n",
      "40/40 [==============================] - 18s 447ms/step - loss: 0.4513 - acc: 0.8036 - val_loss: 0.4524 - val_acc: 0.7967\n",
      "Epoch 14/30\n",
      "40/40 [==============================] - 18s 443ms/step - loss: 0.4372 - acc: 0.8052 - val_loss: 0.4736 - val_acc: 0.7912\n",
      "Epoch 15/30\n",
      "40/40 [==============================] - 18s 444ms/step - loss: 0.4323 - acc: 0.8209 - val_loss: 0.4936 - val_acc: 0.7857\n",
      "Epoch 16/30\n",
      "40/40 [==============================] - 18s 444ms/step - loss: 0.4415 - acc: 0.8075 - val_loss: 0.4755 - val_acc: 0.8104\n",
      "Epoch 17/30\n",
      "40/40 [==============================] - 18s 447ms/step - loss: 0.4310 - acc: 0.8130 - val_loss: 0.5275 - val_acc: 0.7692\n",
      "Epoch 18/30\n",
      "40/40 [==============================] - 19s 471ms/step - loss: 0.4002 - acc: 0.8280 - val_loss: 0.4802 - val_acc: 0.7665\n",
      "Epoch 19/30\n",
      "40/40 [==============================] - 18s 451ms/step - loss: 0.4484 - acc: 0.7981 - val_loss: 0.4975 - val_acc: 0.7967\n",
      "Epoch 20/30\n",
      "40/40 [==============================] - 18s 449ms/step - loss: 0.4019 - acc: 0.8248 - val_loss: 0.4294 - val_acc: 0.8022\n",
      "Epoch 21/30\n",
      "40/40 [==============================] - 18s 441ms/step - loss: 0.4102 - acc: 0.8248 - val_loss: 0.6423 - val_acc: 0.7060\n",
      "Epoch 22/30\n",
      "40/40 [==============================] - 18s 446ms/step - loss: 0.4367 - acc: 0.8130 - val_loss: 0.5141 - val_acc: 0.7802\n",
      "Epoch 23/30\n",
      "40/40 [==============================] - 18s 449ms/step - loss: 0.3942 - acc: 0.8248 - val_loss: 0.4260 - val_acc: 0.8022\n",
      "Epoch 24/30\n",
      "40/40 [==============================] - 18s 444ms/step - loss: 0.4104 - acc: 0.8170 - val_loss: 0.4629 - val_acc: 0.8022\n",
      "Epoch 25/30\n",
      "40/40 [==============================] - 18s 441ms/step - loss: 0.3867 - acc: 0.8358 - val_loss: 0.5253 - val_acc: 0.7720\n",
      "Epoch 26/30\n",
      "40/40 [==============================] - 18s 443ms/step - loss: 0.3853 - acc: 0.8225 - val_loss: 0.4418 - val_acc: 0.7940\n",
      "Epoch 27/30\n",
      "40/40 [==============================] - 18s 447ms/step - loss: 0.3684 - acc: 0.8335 - val_loss: 0.4758 - val_acc: 0.7912\n",
      "Epoch 28/30\n",
      "40/40 [==============================] - 18s 443ms/step - loss: 0.3980 - acc: 0.8193 - val_loss: 0.4295 - val_acc: 0.8077\n",
      "Epoch 29/30\n",
      "40/40 [==============================] - 18s 448ms/step - loss: 0.3723 - acc: 0.8327 - val_loss: 0.4268 - val_acc: 0.8242\n",
      "Epoch 30/30\n",
      "40/40 [==============================] - 18s 446ms/step - loss: 0.3888 - acc: 0.8397 - val_loss: 0.4138 - val_acc: 0.7940\n"
     ]
    }
   ],
   "source": [
    "cnn_model_7 = cnn_7.fit_generator(train_generator,\n",
    "                              epochs = 30,\n",
    "                              steps_per_epoch = len(train_generator),\n",
    "                              validation_data = val_generator,\n",
    "                              validation_steps = len(val_generator))"
   ]
  },
  {
   "cell_type": "code",
   "execution_count": 23,
   "id": "e1339cff",
   "metadata": {
    "ExecuteTime": {
     "end_time": "2021-06-01T16:50:26.499548Z",
     "start_time": "2021-06-01T16:50:26.441949Z"
    }
   },
   "outputs": [],
   "source": [
    " # Design the model\n",
    "    \n",
    "def build_model_8():\n",
    "    cnn = Sequential()\n",
    "\n",
    "    cnn.add(InputLayer(input_shape=(128, 128, 3)))\n",
    "\n",
    "    cnn.add(Conv2D(128, (3, 3), activation='relu'))\n",
    "    cnn.add(MaxPooling2D((2, 2)))\n",
    "    cnn.add(Dropout(0.1))\n",
    "    \n",
    "    cnn.add(Conv2D(64, (3, 3), activation='relu'))\n",
    "    cnn.add(MaxPooling2D((2, 2)))\n",
    "    cnn.add(Dropout(0.2))\n",
    "    \n",
    "    cnn.add(Conv2D(32, (3, 3), activation='relu'))\n",
    "    cnn.add(MaxPooling2D((2, 2)))\n",
    "    cnn.add(Dropout(0.2))\n",
    "    \n",
    "    cnn.add(Conv2D(16, (3, 3), activation='relu'))\n",
    "    cnn.add(MaxPooling2D((2, 2)))\n",
    "    cnn.add(Dropout(0.2))\n",
    "    \n",
    "\n",
    "    cnn.add(Flatten())\n",
    "    cnn.add(Dense(256, activation='relu'))\n",
    "    cnn.add(Dense(1, activation='sigmoid'))\n",
    "    \n",
    "    # Compile\n",
    "    cnn.compile(optimizer='adam',loss='binary_crossentropy',metrics=['acc'])\n",
    "    return cnn\n",
    "\n",
    "cnn_8 = build_model_8()"
   ]
  },
  {
   "cell_type": "code",
   "execution_count": 24,
   "id": "3ed51f8c",
   "metadata": {
    "ExecuteTime": {
     "end_time": "2021-06-01T17:05:04.091418Z",
     "start_time": "2021-06-01T16:50:40.841828Z"
    },
    "scrolled": false
   },
   "outputs": [
    {
     "name": "stderr",
     "output_type": "stream",
     "text": [
      "C:\\Users\\DARTHV~1\\AppData\\Local\\Temp/ipykernel_13832/594959667.py:1: UserWarning: `Model.fit_generator` is deprecated and will be removed in a future version. Please use `Model.fit`, which supports generators.\n",
      "  cnn_model_8 = cnn_8.fit_generator(train_generator,\n"
     ]
    },
    {
     "name": "stdout",
     "output_type": "stream",
     "text": [
      "Epoch 1/30\n",
      "40/40 [==============================] - 19s 456ms/step - loss: 0.6886 - acc: 0.5420 - val_loss: 0.6667 - val_acc: 0.6648\n",
      "Epoch 2/30\n",
      "40/40 [==============================] - 18s 444ms/step - loss: 0.6536 - acc: 0.6426 - val_loss: 0.6652 - val_acc: 0.6786\n",
      "Epoch 3/30\n",
      "40/40 [==============================] - 18s 445ms/step - loss: 0.6319 - acc: 0.6677 - val_loss: 0.6240 - val_acc: 0.6566\n",
      "Epoch 4/30\n",
      "40/40 [==============================] - 18s 449ms/step - loss: 0.5675 - acc: 0.7306 - val_loss: 0.5751 - val_acc: 0.7335\n",
      "Epoch 5/30\n",
      "40/40 [==============================] - 18s 447ms/step - loss: 0.5604 - acc: 0.7368 - val_loss: 0.5768 - val_acc: 0.7170\n",
      "Epoch 6/30\n",
      "40/40 [==============================] - 18s 443ms/step - loss: 0.5633 - acc: 0.7306 - val_loss: 0.5722 - val_acc: 0.7170\n",
      "Epoch 7/30\n",
      "40/40 [==============================] - 18s 445ms/step - loss: 0.5156 - acc: 0.7651 - val_loss: 0.5207 - val_acc: 0.7830\n",
      "Epoch 8/30\n",
      "40/40 [==============================] - 18s 447ms/step - loss: 0.5054 - acc: 0.7565 - val_loss: 0.6376 - val_acc: 0.6319\n",
      "Epoch 9/30\n",
      "40/40 [==============================] - 18s 446ms/step - loss: 0.5228 - acc: 0.7423 - val_loss: 0.4825 - val_acc: 0.7775\n",
      "Epoch 10/30\n",
      "40/40 [==============================] - 18s 451ms/step - loss: 0.4792 - acc: 0.7753 - val_loss: 0.5574 - val_acc: 0.7500\n",
      "Epoch 11/30\n",
      "40/40 [==============================] - 18s 449ms/step - loss: 0.4859 - acc: 0.7706 - val_loss: 0.5703 - val_acc: 0.7555\n",
      "Epoch 12/30\n",
      "40/40 [==============================] - 18s 447ms/step - loss: 0.4768 - acc: 0.7887 - val_loss: 0.5491 - val_acc: 0.7390\n",
      "Epoch 13/30\n",
      "40/40 [==============================] - 18s 446ms/step - loss: 0.4736 - acc: 0.7824 - val_loss: 0.4827 - val_acc: 0.7857\n",
      "Epoch 14/30\n",
      "40/40 [==============================] - 18s 449ms/step - loss: 0.4432 - acc: 0.8013 - val_loss: 0.5080 - val_acc: 0.7637\n",
      "Epoch 15/30\n",
      "40/40 [==============================] - 18s 444ms/step - loss: 0.4287 - acc: 0.8052 - val_loss: 0.4680 - val_acc: 0.7775\n",
      "Epoch 16/30\n",
      "40/40 [==============================] - 18s 445ms/step - loss: 0.4298 - acc: 0.8099 - val_loss: 0.4437 - val_acc: 0.7940\n",
      "Epoch 17/30\n",
      "40/40 [==============================] - 18s 444ms/step - loss: 0.4250 - acc: 0.8099 - val_loss: 0.4835 - val_acc: 0.7802\n",
      "Epoch 18/30\n",
      "40/40 [==============================] - 18s 447ms/step - loss: 0.4392 - acc: 0.8044 - val_loss: 0.4933 - val_acc: 0.7802\n",
      "Epoch 19/30\n",
      "40/40 [==============================] - 18s 441ms/step - loss: 0.4513 - acc: 0.7981 - val_loss: 0.4580 - val_acc: 0.7885\n",
      "Epoch 20/30\n",
      "40/40 [==============================] - 18s 436ms/step - loss: 0.4557 - acc: 0.7903 - val_loss: 0.4500 - val_acc: 0.7940\n",
      "Epoch 21/30\n",
      "40/40 [==============================] - 18s 442ms/step - loss: 0.4316 - acc: 0.8044 - val_loss: 0.4671 - val_acc: 0.7857\n",
      "Epoch 22/30\n",
      "40/40 [==============================] - 19s 473ms/step - loss: 0.3967 - acc: 0.8240 - val_loss: 0.4169 - val_acc: 0.7995\n",
      "Epoch 23/30\n",
      "40/40 [==============================] - 19s 462ms/step - loss: 0.4171 - acc: 0.8060 - val_loss: 0.4303 - val_acc: 0.8077\n",
      "Epoch 24/30\n",
      "40/40 [==============================] - 19s 465ms/step - loss: 0.3916 - acc: 0.8303 - val_loss: 0.4463 - val_acc: 0.8077\n",
      "Epoch 25/30\n",
      "40/40 [==============================] - 19s 466ms/step - loss: 0.3794 - acc: 0.8256 - val_loss: 0.4130 - val_acc: 0.8214\n",
      "Epoch 26/30\n",
      "40/40 [==============================] - 18s 457ms/step - loss: 0.3784 - acc: 0.8342 - val_loss: 0.4275 - val_acc: 0.8242\n",
      "Epoch 27/30\n",
      "40/40 [==============================] - 18s 454ms/step - loss: 0.3781 - acc: 0.8397 - val_loss: 0.4782 - val_acc: 0.7912\n",
      "Epoch 28/30\n",
      "40/40 [==============================] - 18s 451ms/step - loss: 0.4261 - acc: 0.8138 - val_loss: 0.4628 - val_acc: 0.8022\n",
      "Epoch 29/30\n",
      "40/40 [==============================] - 18s 445ms/step - loss: 0.3837 - acc: 0.8185 - val_loss: 0.4420 - val_acc: 0.7857\n",
      "Epoch 30/30\n",
      "40/40 [==============================] - 18s 450ms/step - loss: 0.4014 - acc: 0.8311 - val_loss: 0.5001 - val_acc: 0.7637\n"
     ]
    }
   ],
   "source": [
    "cnn_model_8 = cnn_8.fit_generator(train_generator,\n",
    "                              epochs = 30,\n",
    "                              steps_per_epoch = len(train_generator),\n",
    "                              validation_data = val_generator,\n",
    "                              validation_steps = len(val_generator))"
   ]
  },
  {
   "cell_type": "code",
   "execution_count": 142,
   "id": "578f0008",
   "metadata": {
    "ExecuteTime": {
     "end_time": "2021-06-01T19:35:00.211139Z",
     "start_time": "2021-06-01T19:35:00.134175Z"
    }
   },
   "outputs": [],
   "source": [
    " # Design the model\n",
    "    \n",
    "\n",
    "cnn = tf.keras.models.Sequential()\n",
    "\n",
    "cnn.add(InputLayer(input_shape=(128, 128, 3)))\n",
    "\n",
    "cnn.add(Conv2D(128, (3, 3), activation='relu'))\n",
    "cnn.add(MaxPooling2D((2, 2)))\n",
    "cnn.add(Dropout(0.1))\n",
    "    \n",
    "cnn.add(Conv2D(64, (3, 3), activation='relu'))\n",
    "cnn.add(MaxPooling2D((2, 2)))\n",
    "cnn.add(Dropout(0.2))\n",
    "    \n",
    "cnn.add(Conv2D(32, (3, 3), activation='relu'))\n",
    "cnn.add(MaxPooling2D((2, 2)))\n",
    "cnn.add(Dropout(0.2))\n",
    "    \n",
    "cnn.add(Conv2D(16, (3, 3), activation='relu'))\n",
    "cnn.add(MaxPooling2D((2, 2)))\n",
    "cnn.add(Dropout(0.2))\n",
    "cnn.add(Flatten())\n",
    "cnn.add(Dense(256, activation='relu'))\n",
    "cnn.add(Dropout(0.1))\n",
    "cnn.add(Dense(1, activation='sigmoid'))\n",
    "    \n",
    "    # Compile\n",
    "cnn.compile(optimizer='adam',loss='binary_crossentropy',metrics=['acc'])\n",
    "\n",
    "\n"
   ]
  },
  {
   "cell_type": "code",
   "execution_count": 143,
   "id": "7388727a",
   "metadata": {
    "ExecuteTime": {
     "end_time": "2021-06-01T19:52:51.225284Z",
     "start_time": "2021-06-01T19:35:00.738900Z"
    },
    "scrolled": false
   },
   "outputs": [
    {
     "name": "stdout",
     "output_type": "stream",
     "text": [
      "Epoch 1/5\n",
      "40/40 [==============================] - 64s 2s/step - loss: 0.6971 - acc: 0.5255 - val_loss: 0.6878 - val_acc: 0.6621\n",
      "Epoch 2/5\n",
      "40/40 [==============================] - 34s 855ms/step - loss: 0.6696 - acc: 0.6135 - val_loss: 0.6583 - val_acc: 0.6346\n",
      "Epoch 3/5\n",
      "40/40 [==============================] - 34s 848ms/step - loss: 0.6055 - acc: 0.6960 - val_loss: 0.5944 - val_acc: 0.7033\n",
      "Epoch 4/5\n",
      "40/40 [==============================] - 34s 847ms/step - loss: 0.5638 - acc: 0.7258 - val_loss: 0.5960 - val_acc: 0.7115\n",
      "Epoch 5/5\n",
      "40/40 [==============================] - 34s 846ms/step - loss: 0.5216 - acc: 0.7478 - val_loss: 0.5431 - val_acc: 0.7527\n"
     ]
    },
    {
     "data": {
      "text/plain": [
       "<keras.callbacks.History at 0x1824401e670>"
      ]
     },
     "execution_count": 143,
     "metadata": {},
     "output_type": "execute_result"
    }
   ],
   "source": [
    "cnn.fit(train_generator,\n",
    "        epochs = 5,\n",
    "        steps_per_epoch = len(train_generator),\n",
    "        validation_data = val_generator,\n",
    "        validation_steps = len(val_generator))"
   ]
  },
  {
   "cell_type": "code",
   "execution_count": 144,
   "id": "4577d461",
   "metadata": {},
   "outputs": [
    {
     "data": {
      "text/plain": [
       "{'CORROSION': 0, 'NOCORROSION': 1}"
      ]
     },
     "execution_count": 144,
     "metadata": {},
     "output_type": "execute_result"
    }
   ],
   "source": [
    "train_generator.class_indices"
   ]
  },
  {
   "cell_type": "code",
   "execution_count": 165,
   "id": "8b63b455",
   "metadata": {},
   "outputs": [
    {
     "name": "stdout",
     "output_type": "stream",
     "text": [
      "1/1 [==============================] - 0s 311ms/step\n",
      "no corrosion\n"
     ]
    },
    {
     "data": {
      "image/png": "[encoded data removed]",
      "text/plain": [
       "<Figure size 432x288 with 1 Axes>"
      ]
     },
     "metadata": {
      "needs_background": "light"
     },
     "output_type": "display_data"
    }
   ],
   "source": [
    "from tensorflow.keras.preprocessing import image\n",
    "import matplotlib.pyplot as plt\n",
    "import cv2\n",
    "\n",
    "test = image.load_img('no_corrosion_internet.jpg',target_size=(128,128))\n",
    "plt.imshow(test)\n",
    "test = image.img_to_array(test)\n",
    "test = np.expand_dims(test, axis=0)\n",
    "result = cnn.predict(test)\n",
    "\n",
    "\n",
    "if result == 1:\n",
    "    print('no corrosion')\n",
    "else:\n",
    "    print('corrosion')\n",
    "\n",
    "\n"
   ]
  }
 ],
 "metadata": {
  "kernelspec": {
   "display_name": "Python 3.9.9 64-bit",
   "language": "python",
   "name": "python3"
  },
  "language_info": {
   "codemirror_mode": {
    "name": "ipython",
    "version": 3
   },
   "file_extension": ".py",
   "mimetype": "text/x-python",
   "name": "python",
   "nbconvert_exporter": "python",
   "pygments_lexer": "ipython3",
   "version": "3.9.9"
  },
  "toc": {
   "base_numbering": 1,
   "nav_menu": {},
   "number_sections": true,
   "sideBar": true,
   "skip_h1_title": false,
   "title_cell": "Table of Contents",
   "title_sidebar": "Contents",
   "toc_cell": false,
   "toc_position": {
    "height": "calc(100% - 180px)",
    "left": "10px",
    "top": "150px",
    "width": "211px"
   },
   "toc_section_display": true,
   "toc_window_display": true
  },
  "vscode": {
   "interpreter": {
    "hash": "e8823bb3e442f01c3ada49d578605d3597212ea5163064c0d6d24133e72d016e"
   }
  }
 },
 "nbformat": 4,
 "nbformat_minor": 5
}
